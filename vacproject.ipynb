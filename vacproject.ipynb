{
  "nbformat": 4,
  "nbformat_minor": 0,
  "metadata": {
    "colab": {
      "provenance": []
    },
    "kernelspec": {
      "name": "python3",
      "display_name": "Python 3"
    },
    "language_info": {
      "name": "python"
    }
  },
  "cells": [
    {
      "cell_type": "markdown",
      "source": [
        "# ***Breadth first search(BFS)***"
      ],
      "metadata": {
        "id": "JJuPhA3K3b0Z"
      }
    },
    {
      "cell_type": "code",
      "source": [
        "graph = {\n",
        "  '5' : ['3','7'],\n",
        "  '3' : ['2', '4'],\n",
        "  '7' : ['8'],\n",
        "  '2' : [],\n",
        "  '4' : ['8'],\n",
        "  '8' : []\n",
        "}\n",
        "                                                                                                                            \n",
        "visited = [] \n",
        "queue = []    \n",
        "\n",
        "def bfs(visited, graph, node): \n",
        "  visited.append(node)\n",
        "  queue.append(node)\n",
        "\n",
        "  while queue:         \n",
        "    m = queue.pop(0) \n",
        "    print (m, end = \" \") \n",
        "\n",
        "    for neighbour in graph[m]:\n",
        "      if neighbour not in visited:\n",
        "        visited.append(neighbour)\n",
        "        queue.append(neighbour)\n",
        "\n",
        "\n",
        "print(\"Following is the Breadth-First Search\")\n",
        "bfs(visited, graph, '5')"
      ],
      "metadata": {
        "colab": {
          "base_uri": "https://localhost:8080/"
        },
        "id": "M1Bq0CO423xD",
        "outputId": "d3ebc20a-ae8c-4648-e7d2-0dff16aa09eb"
      },
      "execution_count": null,
      "outputs": [
        {
          "output_type": "stream",
          "name": "stdout",
          "text": [
            "Following is the Breadth-First Search\n",
            "5 3 7 2 4 8 "
          ]
        }
      ]
    },
    {
      "cell_type": "code",
      "source": [
        "\n",
        "graph = {\n",
        "    'A': ['B', 'C', \"D\"],\n",
        "    'B': ['E', \"F\"],\n",
        "    'C': ['G', \"I\"],\n",
        "    'D': [\"I\"],\n",
        "    'E': [],\n",
        "    \"F\": [],\n",
        "    'G': [],\n",
        "    \"I\": []\n",
        "}\n",
        " \n",
        "def bfs(visit_complete, graph, current_node):\n",
        "    visit_complete.append(current_node)\n",
        "    queue = []\n",
        "    queue.append(current_node)\n",
        " \n",
        "    while queue:\n",
        "        s = queue.pop(0)\n",
        "        print(s)\n",
        " \n",
        "        for neighbour in graph[s]:\n",
        "            if neighbour not in visit_complete:\n",
        "                visit_complete.append(neighbour)\n",
        "                queue.append(neighbour)\n",
        " \n",
        "bfs([], graph, 'A')"
      ],
      "metadata": {
        "colab": {
          "base_uri": "https://localhost:8080/"
        },
        "id": "8Jm6XIps4R_O",
        "outputId": "55ebba15-cda0-4dc1-ff7d-338981a0d6af"
      },
      "execution_count": null,
      "outputs": [
        {
          "output_type": "stream",
          "name": "stdout",
          "text": [
            "A\n",
            "B\n",
            "C\n",
            "D\n",
            "E\n",
            "F\n",
            "G\n",
            "I\n"
          ]
        }
      ]
    }
  ]
}